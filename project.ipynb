{
 "cells": [
  {
   "cell_type": "markdown",
   "id": "2251baee",
   "metadata": {},
   "source": [
    "# Proje – “Kitap Satış Analiz Sistemi” \n",
    "Bir yayınevinin farklı türlerde ve yazarlarda kitapları var. Örnek veri: \n",
    "```python\n",
    "kitaplar = [\n",
    "    {\"isim\": \"Veri Bilimi 101\", \"yazar\": \"Ali\", \"tur\": \"Bilim\", \"satis\": 1200, \"yil\": 2021},\n",
    "    {\"isim\": \"Python ile Yapay Zeka\", \"yazar\": \"Ayşe\", \"tur\": \"Bilim\", \"satis\": 950, \"yil\": 2020},\n",
    "    {\"isim\": \"İstatistik Temelleri\", \"yazar\": \"Ali\", \"tur\": \"Akademik\", \"satis\": 700, \"yil\": 2019},\n",
    "    {\"isim\": \"Makine Öğrenmesi\", \"yazar\": \"Can\", \"tur\": \"Bilim\", \"satis\": 1800, \"yil\": 2022},\n",
    "    {\"isim\": \"Veri Görselleştirme\", \"yazar\": \"Deniz\", \"tur\": \"Sanat\", \"satis\": 400, \"yil\": 2018},\n",
    "    {\"isim\": \"Matematiksel Modelleme\", \"yazar\": \"Ali\", \"tur\": \"Akademik\", \"satis\": 1500, \"yil\": 2021},\n",
    "    {\"isim\": \"Bilgi Toplumu\", \"yazar\": \"Ayşe\", \"tur\": \"Sosyal\", \"satis\": 600, \"yil\": 2022}\n",
    "]\n",
    "\n",
    "Yapılması Gerekenler: \n",
    "1. Fonksiyon Yazma: \n",
    "- en_cok_satan(kitaplar) → En çok satan kitabın bilgilerini döndürsün. \n",
    "- yazar_satislari(kitaplar) → Her yazarın toplam satışını bir sözlük olarak \n",
    "döndürsün. \n",
    "2. Liste ve Küme İşlemleri: \n",
    "- Tüm kitap türlerini (tur) küme halinde çıkarın (tekrar eden türler olmadan). \n",
    "- Satış adedi 1000’den fazla olan kitapların isimlerini bir listede toplayın. \n",
    "3. Lambda / Filter / Map Kullanımı: \n",
    "- filter ile 2020’den sonra çıkan kitapları süzün. \n",
    "- map ile tüm satış adetlerini %10 artırılmış şekilde yeni bir listeye aktarın. \n",
    "- sorted + lambda ile kitapları satış miktarına göre azalan şekilde sıralayın. \n",
    " \n",
    "4. İstatistiksel Analiz: \n",
    "- Ortalama satış adedini bulun. \n",
    "- En çok satış yapan türü bulun. \n",
    "- Satışların standart sapmasını hesaplamak için statistics modülünü kullanın. \n",
    "5. Ekstra (Zorlayıcı): Train/Test Simülasyonu \n",
    "- Kitap listesini rastgele %70 eğitim (train), %30 test verisine ayırın \n",
    "(random.sample). \n",
    "- Eğitim verisinden yazarların ortalama satışını hesaplayın. \n",
    "- Test verisinde, hangi kitapların satışlarının bu ortalamanın üzerinde olduğunu \n",
    "kontrol edin. \n",
    " \n",
    "Beklenen Çıktı Örneği \n",
    "- En çok satan kitap: \"Makine Öğrenmesi\" \n",
    "- Yazar satışları: {\"Ali\": 3400, \"Ayşe\": 1550, \"Can\": 1800, \"Deniz\": 400} \n",
    "- Türler: {\"Bilim\", \"Akademik\", \"Sanat\", \"Sosyal\"} \n",
    "- 1000’den fazla satan kitaplar: [\"Veri Bilimi 101\", \"Makine Öğrenmesi\", \n",
    "\"Matematiksel Modelleme\"] \n",
    "- Ortalama satış: 1021.4 \n",
    "- Standart sapma: ~480.2 \n",
    "- Eğitim/ Test ayırımı sonrası analiz: \n",
    "Analizde Sizden Beklenen: \n",
    "- Veriyi uygun oranlarda ayırın (örneğin %70 train, %30 test). \n",
    "- Train seti üzerinde basit analizler yapın (ortalama, sıklık, vs.). \n",
    "- Test seti üzerinde aynı analizleri tekrarlayın. \n",
    "- Sonuçları karşılaştırın ve kısa yorum ekleyin."
   ]
  },
  {
   "cell_type": "code",
   "execution_count": 15,
   "id": "38d1f1d8",
   "metadata": {},
   "outputs": [],
   "source": [
    "kitaplar = [ \n",
    "    {\"isim\": \"Veri Bilimi 101\", \"yazar\": \"Ali\", \"tur\": \"Bilim\", \"satis\": 1200, \"yil\": 2021}, \n",
    "    {\"isim\": \"Python ile Yapay Zeka\", \"yazar\": \"Ayşe\", \"tur\": \"Bilim\", \"satis\": 950, \"yil\": 2020}, \n",
    "    {\"isim\": \"İstatistik Temelleri\", \"yazar\": \"Ali\", \"tur\": \"Akademik\", \"satis\": 700, \"yil\": 2019}, \n",
    "    {\"isim\": \"Makine Öğrenmesi\", \"yazar\": \"Can\", \"tur\": \"Bilim\", \"satis\": 1800, \"yil\": 2022}, \n",
    "    {\"isim\": \"Veri Görselleştirme\", \"yazar\": \"Deniz\", \"tur\": \"Sanat\", \"satis\": 400, \"yil\": 2018}, \n",
    "    {\"isim\": \"Matematiksel Modelleme\", \"yazar\": \"Ali\", \"tur\": \"Akademik\", \"satis\": 1500, \"yil\": 2021}, \n",
    "    {\"isim\": \"Bilgi Toplumu\", \"yazar\": \"Ayşe\", \"tur\": \"Sosyal\", \"satis\": 600, \"yil\": 2022} \n",
    "] \n"
   ]
  },
  {
   "cell_type": "code",
   "execution_count": 16,
   "id": "85ea1eb9",
   "metadata": {},
   "outputs": [
    {
     "name": "stdout",
     "output_type": "stream",
     "text": [
      "Makine Öğrenmesi\n"
     ]
    }
   ],
   "source": [
    "def en_cok_satan_kitaplar(kitaplar:list):\n",
    "    en_cok_satilan=kitaplar[0]\n",
    "    for kitap in kitaplar:\n",
    "        if kitap[\"satis\"]>en_cok_satilan[\"satis\"]:\n",
    "            en_cok_satilan=kitap\n",
    "    return en_cok_satilan[\"isim\"]\n",
    "print(en_cok_satan_kitaplar(kitaplar=kitaplar))"
   ]
  },
  {
   "cell_type": "code",
   "execution_count": 17,
   "id": "9771ff59",
   "metadata": {},
   "outputs": [
    {
     "name": "stdout",
     "output_type": "stream",
     "text": [
      "{'Ali': 3400, 'Ayşe': 1550, 'Can': 1800, 'Deniz': 400}\n"
     ]
    }
   ],
   "source": [
    "def yazar_satislari(kitaplar:list):\n",
    "    yazarlar={}\n",
    "    for kitap in kitaplar:\n",
    "        if kitap[\"yazar\"] in yazarlar:\n",
    "            yazarlar[kitap[\"yazar\"]]+=kitap[\"satis\"]\n",
    "        else:\n",
    "            yazarlar[kitap[\"yazar\"]]=kitap[\"satis\"]\n",
    "    return yazarlar\n",
    "print(yazar_satislari(kitaplar=kitaplar))"
   ]
  },
  {
   "cell_type": "code",
   "execution_count": 18,
   "id": "ea0afe6d",
   "metadata": {},
   "outputs": [
    {
     "name": "stdout",
     "output_type": "stream",
     "text": [
      "{'Sanat', 'Bilim', 'Akademik', 'Sosyal'}\n"
     ]
    }
   ],
   "source": [
    "def turleri_cikar(kitaplar:list):\n",
    "    turler=set()\n",
    "    for kitap in kitaplar:\n",
    "        turler.add(kitap[\"tur\"])\n",
    "    return turler\n",
    "print(turleri_cikar(kitaplar=kitaplar))"
   ]
  },
  {
   "cell_type": "code",
   "execution_count": 19,
   "id": "ff6855a1",
   "metadata": {},
   "outputs": [
    {
     "name": "stdout",
     "output_type": "stream",
     "text": [
      "[{'isim': 'Veri Bilimi 101', 'yazar': 'Ali', 'tur': 'Bilim', 'satis': 1200, 'yil': 2021}, {'isim': 'Makine Öğrenmesi', 'yazar': 'Can', 'tur': 'Bilim', 'satis': 1800, 'yil': 2022}, {'isim': 'Matematiksel Modelleme', 'yazar': 'Ali', 'tur': 'Akademik', 'satis': 1500, 'yil': 2021}]\n"
     ]
    }
   ],
   "source": [
    "def yuksek_satis(kitaplar:list):\n",
    "    binden_fazla_satilanlar=[]\n",
    "    for kitap in kitaplar:\n",
    "        if kitap[\"satis\"]>1000:\n",
    "            binden_fazla_satilanlar.append(kitap)\n",
    "    return binden_fazla_satilanlar\n",
    "print(yuksek_satis(kitaplar=kitaplar))"
   ]
  },
  {
   "cell_type": "code",
   "execution_count": 20,
   "id": "1f4501b3",
   "metadata": {},
   "outputs": [
    {
     "name": "stdout",
     "output_type": "stream",
     "text": [
      "['Veri Bilimi 101', 'Makine Öğrenmesi', 'Matematiksel Modelleme', 'Bilgi Toplumu']\n"
     ]
    }
   ],
   "source": [
    "def en_son_cikanlar(kitaplar:list):\n",
    "    son_kitaplar=list(filter(lambda x:x[\"yil\"]>2020,kitaplar)) \n",
    "    son_kitap_isimleri=[kitap[\"isim\"] for kitap in son_kitaplar]\n",
    "    return son_kitap_isimleri\n",
    "print(en_son_cikanlar(kitaplar))"
   ]
  },
  {
   "cell_type": "code",
   "execution_count": 21,
   "id": "08e89aa7",
   "metadata": {},
   "outputs": [
    {
     "name": "stdout",
     "output_type": "stream",
     "text": [
      "[1320.0, 1045.0, 770.0000000000001, 1980.0000000000002, 440.00000000000006, 1650.0000000000002, 660.0]\n"
     ]
    }
   ],
   "source": [
    "def zam_yapilmis(kitaplar:list):\n",
    "    zam_yapilmis_fiyatlar=list(map(lambda k:k[\"satis\"]*1.1,kitaplar))\n",
    "    return zam_yapilmis_fiyatlar\n",
    "print(zam_yapilmis(kitaplar))"
   ]
  },
  {
   "cell_type": "code",
   "execution_count": 22,
   "id": "ccdfe378",
   "metadata": {},
   "outputs": [
    {
     "name": "stdout",
     "output_type": "stream",
     "text": [
      "[{'isim': 'Makine Öğrenmesi', 'yazar': 'Can', 'tur': 'Bilim', 'satis': 1800, 'yil': 2022}, {'isim': 'Matematiksel Modelleme', 'yazar': 'Ali', 'tur': 'Akademik', 'satis': 1500, 'yil': 2021}, {'isim': 'Veri Bilimi 101', 'yazar': 'Ali', 'tur': 'Bilim', 'satis': 1200, 'yil': 2021}, {'isim': 'Python ile Yapay Zeka', 'yazar': 'Ayşe', 'tur': 'Bilim', 'satis': 950, 'yil': 2020}, {'isim': 'İstatistik Temelleri', 'yazar': 'Ali', 'tur': 'Akademik', 'satis': 700, 'yil': 2019}, {'isim': 'Bilgi Toplumu', 'yazar': 'Ayşe', 'tur': 'Sosyal', 'satis': 600, 'yil': 2022}, {'isim': 'Veri Görselleştirme', 'yazar': 'Deniz', 'tur': 'Sanat', 'satis': 400, 'yil': 2018}]\n"
     ]
    }
   ],
   "source": [
    "def siralanmis_yeni_list(kitaplar:list):\n",
    "    yeni_kitaplar=sorted(kitaplar,key=lambda k:k[\"satis\"],reverse=True)\n",
    "    return yeni_kitaplar\n",
    "print(siralanmis_yeni_list(kitaplar=kitaplar))"
   ]
  },
  {
   "cell_type": "code",
   "execution_count": 23,
   "id": "6cf86cf6",
   "metadata": {},
   "outputs": [
    {
     "name": "stdout",
     "output_type": "stream",
     "text": [
      "1021.4285714285714\n"
     ]
    }
   ],
   "source": [
    "def ortalama_satis_adedi(kitaplar:list):\n",
    "    toplam_satis=0\n",
    "    for kitap in kitaplar:\n",
    "        toplam_satis+=kitap[\"satis\"]\n",
    "    return toplam_satis/len(kitaplar)\n",
    "print(ortalama_satis_adedi(kitaplar=kitaplar))"
   ]
  },
  {
   "cell_type": "code",
   "execution_count": 24,
   "id": "ccf0ea42",
   "metadata": {},
   "outputs": [
    {
     "name": "stdout",
     "output_type": "stream",
     "text": [
      "['Bilim']\n"
     ]
    }
   ],
   "source": [
    "def en_cok_satan_tur(kitaplar:list):\n",
    "    turler={}\n",
    "    for kitap in kitaplar:\n",
    "        if kitap[\"tur\"] in turler:\n",
    "            turler[kitap[\"tur\"]]+=kitap[\"satis\"]\n",
    "        else:\n",
    "            turler[kitap[\"tur\"]]=kitap[\"satis\"]\n",
    "    en_buyuk=max(turler.values())\n",
    "    en_cok_satis=[k for k,v in turler.items() if v==en_buyuk]\n",
    "    return en_cok_satis\n",
    "print(en_cok_satan_tur(kitaplar))\n"
   ]
  },
  {
   "cell_type": "code",
   "execution_count": 27,
   "id": "758d8a5e",
   "metadata": {},
   "outputs": [
    {
     "name": "stdout",
     "output_type": "stream",
     "text": [
      "468.9327874905672\n"
     ]
    }
   ],
   "source": [
    "import statistics as st\n",
    "def standart_sapma_hesaplama(kitaplar:list):\n",
    "    satis_list=[]\n",
    "    for kitap in kitaplar:\n",
    "        satis_list.append(kitap[\"satis\"])\n",
    "    return st.pstdev(satis_list)\n",
    "print(standart_sapma_hesaplama(kitaplar))"
   ]
  },
  {
   "cell_type": "code",
   "execution_count": 30,
   "id": "6225c1f7",
   "metadata": {},
   "outputs": [
    {
     "name": "stdout",
     "output_type": "stream",
     "text": [
      "Train : [{'isim': 'Veri Bilimi 101', 'yazar': 'Ali', 'tur': 'Bilim', 'satis': 1200, 'yil': 2021}, {'isim': 'Python ile Yapay Zeka', 'yazar': 'Ayşe', 'tur': 'Bilim', 'satis': 950, 'yil': 2020}, {'isim': 'Matematiksel Modelleme', 'yazar': 'Ali', 'tur': 'Akademik', 'satis': 1500, 'yil': 2021}, {'isim': 'Bilgi Toplumu', 'yazar': 'Ayşe', 'tur': 'Sosyal', 'satis': 600, 'yil': 2022}, {'isim': 'Veri Görselleştirme', 'yazar': 'Deniz', 'tur': 'Sanat', 'satis': 400, 'yil': 2018}]\n",
      "Test : [{'isim': 'İstatistik Temelleri', 'yazar': 'Ali', 'tur': 'Akademik', 'satis': 700, 'yil': 2019}, {'isim': 'Makine Öğrenmesi', 'yazar': 'Can', 'tur': 'Bilim', 'satis': 1800, 'yil': 2022}]\n"
     ]
    }
   ],
   "source": [
    "import random,statistics\n",
    "def train_test_simulation(kitaplar:list):\n",
    "    train_size=round(len(kitaplar)*0.7) \n",
    "    train=random.sample(kitaplar,train_size)\n",
    "    test=[k for k in kitaplar if k not in train]\n",
    "    return train,test\n",
    "train,test=train_test_simulation(kitaplar)\n",
    "print(f\"Train : {train}\")\n",
    "print(f\"Test : {test}\")\n"
   ]
  },
  {
   "cell_type": "code",
   "execution_count": 31,
   "id": "97609780",
   "metadata": {},
   "outputs": [
    {
     "name": "stdout",
     "output_type": "stream",
     "text": [
      "Yazarların ortalama satışları : 1162.5\n"
     ]
    }
   ],
   "source": [
    "def ortalama_satis_train(train:list):\n",
    "    yazarlar=set()\n",
    "    for kitap in kitaplar:\n",
    "        yazarlar.add(kitap[\"yazar\"])\n",
    "    toplam_satis=0\n",
    "    for kitap in train:\n",
    "        toplam_satis+=kitap[\"satis\"]\n",
    "    ortalama_satis=toplam_satis/len(yazarlar)\n",
    "    return ortalama_satis\n",
    "print(f\"Yazarların ortalama satışları : {ortalama_satis_train(train)}\")\n"
   ]
  },
  {
   "cell_type": "code",
   "execution_count": 32,
   "id": "18b00c4d",
   "metadata": {},
   "outputs": [
    {
     "name": "stdout",
     "output_type": "stream",
     "text": [
      "Test kümesi içerisinde ortalama üstündeki veriler : [{'isim': 'Makine Öğrenmesi', 'yazar': 'Can', 'tur': 'Bilim', 'satis': 1800, 'yil': 2022}]\n"
     ]
    }
   ],
   "source": [
    "ortalama_satis=ortalama_satis_train(train)\n",
    "def test_ortalama_karsilastirma(test:list):\n",
    "    test_ortalama_ustunde_veriler=[k for k in test if k[\"satis\"]>ortalama_satis]\n",
    "    return test_ortalama_ustunde_veriler\n",
    "print(f\"Test kümesi içerisinde ortalama üstündeki veriler : {test_ortalama_karsilastirma(test)}\")"
   ]
  }
 ],
 "metadata": {
  "kernelspec": {
   "display_name": "global (3.13.5)",
   "language": "python",
   "name": "python3"
  },
  "language_info": {
   "codemirror_mode": {
    "name": "ipython",
    "version": 3
   },
   "file_extension": ".py",
   "mimetype": "text/x-python",
   "name": "python",
   "nbconvert_exporter": "python",
   "pygments_lexer": "ipython3",
   "version": "3.13.5"
  }
 },
 "nbformat": 4,
 "nbformat_minor": 5
}
