{
 "cells": [
  {
   "cell_type": "markdown",
   "id": "2251baee",
   "metadata": {},
   "source": [
    "# Proje – “Kitap Satış Analiz Sistemi” \n",
    "Bir yayınevinin farklı türlerde ve yazarlarda kitapları var. Örnek veri: \n",
    "```python\n",
    "kitaplar = [\n",
    "    {\"isim\": \"Veri Bilimi 101\", \"yazar\": \"Ali\", \"tur\": \"Bilim\", \"satis\": 1200, \"yil\": 2021},\n",
    "    {\"isim\": \"Python ile Yapay Zeka\", \"yazar\": \"Ayşe\", \"tur\": \"Bilim\", \"satis\": 950, \"yil\": 2020},\n",
    "    {\"isim\": \"İstatistik Temelleri\", \"yazar\": \"Ali\", \"tur\": \"Akademik\", \"satis\": 700, \"yil\": 2019},\n",
    "    {\"isim\": \"Makine Öğrenmesi\", \"yazar\": \"Can\", \"tur\": \"Bilim\", \"satis\": 1800, \"yil\": 2022},\n",
    "    {\"isim\": \"Veri Görselleştirme\", \"yazar\": \"Deniz\", \"tur\": \"Sanat\", \"satis\": 400, \"yil\": 2018},\n",
    "    {\"isim\": \"Matematiksel Modelleme\", \"yazar\": \"Ali\", \"tur\": \"Akademik\", \"satis\": 1500, \"yil\": 2021},\n",
    "    {\"isim\": \"Bilgi Toplumu\", \"yazar\": \"Ayşe\", \"tur\": \"Sosyal\", \"satis\": 600, \"yil\": 2022}\n",
    "]\n",
    "\n",
    "Yapılması Gerekenler: \n",
    "1. Fonksiyon Yazma: \n",
    "- en_cok_satan(kitaplar) → En çok satan kitabın bilgilerini döndürsün. \n",
    "- yazar_satislari(kitaplar) → Her yazarın toplam satışını bir sözlük olarak \n",
    "döndürsün. \n",
    "2. Liste ve Küme İşlemleri: \n",
    "- Tüm kitap türlerini (tur) küme halinde çıkarın (tekrar eden türler olmadan). \n",
    "- Satış adedi 1000’den fazla olan kitapların isimlerini bir listede toplayın. \n",
    "3. Lambda / Filter / Map Kullanımı: \n",
    "- filter ile 2020’den sonra çıkan kitapları süzün. \n",
    "- map ile tüm satış adetlerini %10 artırılmış şekilde yeni bir listeye aktarın. \n",
    "- sorted + lambda ile kitapları satış miktarına göre azalan şekilde sıralayın. \n",
    " \n",
    "4. İstatistiksel Analiz: \n",
    "- Ortalama satış adedini bulun. \n",
    "- En çok satış yapan türü bulun. \n",
    "- Satışların standart sapmasını hesaplamak için statistics modülünü kullanın. \n",
    "5. Ekstra (Zorlayıcı): Train/Test Simülasyonu \n",
    "- Kitap listesini rastgele %70 eğitim (train), %30 test verisine ayırın \n",
    "(random.sample). \n",
    "- Eğitim verisinden yazarların ortalama satışını hesaplayın. \n",
    "- Test verisinde, hangi kitapların satışlarının bu ortalamanın üzerinde olduğunu \n",
    "kontrol edin. \n",
    " \n",
    "Beklenen Çıktı Örneği \n",
    "- En çok satan kitap: \"Makine Öğrenmesi\" \n",
    "- Yazar satışları: {\"Ali\": 3400, \"Ayşe\": 1550, \"Can\": 1800, \"Deniz\": 400} \n",
    "- Türler: {\"Bilim\", \"Akademik\", \"Sanat\", \"Sosyal\"} \n",
    "- 1000’den fazla satan kitaplar: [\"Veri Bilimi 101\", \"Makine Öğrenmesi\", \n",
    "\"Matematiksel Modelleme\"] \n",
    "- Ortalama satış: 1021.4 \n",
    "- Standart sapma: ~480.2 \n",
    "- Eğitim/ Test ayırımı sonrası analiz: \n",
    "Analizde Sizden Beklenen: \n",
    "- Veriyi uygun oranlarda ayırın (örneğin %70 train, %30 test). \n",
    "- Train seti üzerinde basit analizler yapın (ortalama, sıklık, vs.). \n",
    "- Test seti üzerinde aynı analizleri tekrarlayın. \n",
    "- Sonuçları karşılaştırın ve kısa yorum ekleyin."
   ]
  },
  {
   "cell_type": "code",
   "execution_count": 2,
   "id": "38d1f1d8",
   "metadata": {},
   "outputs": [],
   "source": [
    "kitaplar = [ \n",
    "    {\"isim\": \"Veri Bilimi 101\", \"yazar\": \"Ali\", \"tur\": \"Bilim\", \"satis\": 1200, \"yil\": 2021}, \n",
    "    {\"isim\": \"Python ile Yapay Zeka\", \"yazar\": \"Ayşe\", \"tur\": \"Bilim\", \"satis\": 950, \"yil\": 2020}, \n",
    "    {\"isim\": \"İstatistik Temelleri\", \"yazar\": \"Ali\", \"tur\": \"Akademik\", \"satis\": 700, \"yil\": 2019}, \n",
    "    {\"isim\": \"Makine Öğrenmesi\", \"yazar\": \"Can\", \"tur\": \"Bilim\", \"satis\": 1800, \"yil\": 2022}, \n",
    "    {\"isim\": \"Veri Görselleştirme\", \"yazar\": \"Deniz\", \"tur\": \"Sanat\", \"satis\": 400, \"yil\": 2018}, \n",
    "    {\"isim\": \"Matematiksel Modelleme\", \"yazar\": \"Ali\", \"tur\": \"Akademik\", \"satis\": 1500, \"yil\": 2021}, \n",
    "    {\"isim\": \"Bilgi Toplumu\", \"yazar\": \"Ayşe\", \"tur\": \"Sosyal\", \"satis\": 600, \"yil\": 2022} \n",
    "] \n"
   ]
  },
  {
   "cell_type": "code",
   "execution_count": 3,
   "id": "85ea1eb9",
   "metadata": {},
   "outputs": [
    {
     "name": "stdout",
     "output_type": "stream",
     "text": [
      "Makine Öğrenmesi\n"
     ]
    }
   ],
   "source": [
    "def en_cok_satan_kitaplar(kitaplar:list):\n",
    "    en_cok_satilan=kitaplar[0]\n",
    "    for kitap in kitaplar:\n",
    "        if kitap[\"satis\"]>en_cok_satilan[\"satis\"]:\n",
    "            en_cok_satilan=kitap\n",
    "    return en_cok_satilan[\"isim\"]\n",
    "print(en_cok_satan_kitaplar(kitaplar=kitaplar))"
   ]
  },
  {
   "cell_type": "code",
   "execution_count": 4,
   "id": "9771ff59",
   "metadata": {},
   "outputs": [
    {
     "name": "stdout",
     "output_type": "stream",
     "text": [
      "{'Ali': 3400, 'Ayşe': 1550, 'Can': 1800, 'Deniz': 400}\n"
     ]
    }
   ],
   "source": [
    "def yazar_satislari(kitaplar:list):\n",
    "    yazarlar={}\n",
    "    for kitap in kitaplar:\n",
    "        if kitap[\"yazar\"] in yazarlar:\n",
    "            yazarlar[kitap[\"yazar\"]]+=kitap[\"satis\"]\n",
    "        else:\n",
    "            yazarlar[kitap[\"yazar\"]]=kitap[\"satis\"]\n",
    "    return yazarlar\n",
    "print(yazar_satislari(kitaplar=kitaplar))"
   ]
  },
  {
   "cell_type": "code",
   "execution_count": 5,
   "id": "ea0afe6d",
   "metadata": {},
   "outputs": [
    {
     "name": "stdout",
     "output_type": "stream",
     "text": [
      "{'Bilim', 'Akademik', 'Sanat', 'Sosyal'}\n"
     ]
    }
   ],
   "source": [
    "def turleri_cikar(kitaplar:list):\n",
    "    turler=set()\n",
    "    for kitap in kitaplar:\n",
    "        turler.add(kitap[\"tur\"])\n",
    "    return turler\n",
    "print(turleri_cikar(kitaplar=kitaplar))"
   ]
  },
  {
   "cell_type": "code",
   "execution_count": 6,
   "id": "ff6855a1",
   "metadata": {},
   "outputs": [
    {
     "name": "stdout",
     "output_type": "stream",
     "text": [
      "[{'isim': 'Veri Bilimi 101', 'yazar': 'Ali', 'tur': 'Bilim', 'satis': 1200, 'yil': 2021}, {'isim': 'Makine Öğrenmesi', 'yazar': 'Can', 'tur': 'Bilim', 'satis': 1800, 'yil': 2022}, {'isim': 'Matematiksel Modelleme', 'yazar': 'Ali', 'tur': 'Akademik', 'satis': 1500, 'yil': 2021}]\n"
     ]
    }
   ],
   "source": [
    "def yuksek_satis(kitaplar:list):\n",
    "    binden_fazla_satilanlar=[]\n",
    "    for kitap in kitaplar:\n",
    "        if kitap[\"satis\"]>1000:\n",
    "            binden_fazla_satilanlar.append(kitap)\n",
    "    return binden_fazla_satilanlar\n",
    "print(yuksek_satis(kitaplar=kitaplar))"
   ]
  }
 ],
 "metadata": {
  "kernelspec": {
   "display_name": "global (3.13.5)",
   "language": "python",
   "name": "python3"
  },
  "language_info": {
   "codemirror_mode": {
    "name": "ipython",
    "version": 3
   },
   "file_extension": ".py",
   "mimetype": "text/x-python",
   "name": "python",
   "nbconvert_exporter": "python",
   "pygments_lexer": "ipython3",
   "version": "3.13.5"
  }
 },
 "nbformat": 4,
 "nbformat_minor": 5
}
