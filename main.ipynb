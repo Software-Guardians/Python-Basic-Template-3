{
 "cells": [
  {
   "cell_type": "markdown",
   "id": "27405298",
   "metadata": {},
   "source": [
    "## Haftalık Ödev – Yaz Kampı: Veri Bilimi – Hafta 3 \n",
    "Hedefler: \n",
    "- İleri seviye veri yapılarıyla (liste, sözlük, küme) rahatça çalışabilmesi, \n",
    "- Fonksiyonlar, lambda ve gömülü fonksiyonları etkin kullanabilmesi, \n",
    "- Modüller ve temel istatistiksel hesaplamaları uygulayabilmesi, \n",
    "- Kodlarını düzenli ve okunabilir şekilde yazabilmesi, \n",
    "- Basit bir veri analizi sürecini baştan sona gerçekleştirebilmesi beklenmektedir."
   ]
  },
  {
   "cell_type": "markdown",
   "id": "edbf28a0",
   "metadata": {},
   "source": [
    "### Soru 1 – Liste Metotları \n",
    "Bir sınıfta öğrencilerin notları şu şekilde tutuluyor: \n",
    "notlar = [85, 92, 76, 92, 100, 76, 85, 92] \n",
    "- Listedeki tekrar eden notları silip benzersiz bir liste oluşturun. \n",
    "- En yüksek ve en düşük notu bulun. \n",
    "- Notları küçükten büyüğe sıralayın."
   ]
  },
  {
   "cell_type": "code",
   "execution_count": 3,
   "id": "64c79dc6",
   "metadata": {},
   "outputs": [
    {
     "name": "stdout",
     "output_type": "stream",
     "text": [
      "[85, 92, 76, 100]\n",
      "min : 76, max : 100\n",
      "[76, 85, 92, 100]\n"
     ]
    }
   ],
   "source": [
    "notes=[85,92,76,92,100,76,85,92]\n",
    "newNotes=[]\n",
    "for note in notes:\n",
    "    if not note in newNotes:\n",
    "        newNotes.append(note)\n",
    "print(newNotes)\n",
    "minNote=newNotes[0]\n",
    "maxNote=newNotes[0]\n",
    "for note in newNotes:\n",
    "    if note<minNote:\n",
    "        minNote=note\n",
    "    if note>maxNote:\n",
    "        maxNote=note\n",
    "print(f\"min : {minNote}, max : {maxNote}\")\n",
    "newNotes.sort()\n",
    "print(newNotes)"
   ]
  },
  {
   "cell_type": "markdown",
   "id": "ddca9f04",
   "metadata": {},
   "source": [
    "### Soru 2 – Sayılar \n",
    "Bir sayının Armstrong sayısı olup olmadığını kontrol eden bir Python fonksiyonu yazın. \n",
    "Armstrong sayısı: Her basamağının küplerinin toplamı kendisine eşit olan sayılar. \n",
    "Örn: 153 → 1³+5³+3³ = 153"
   ]
  },
  {
   "cell_type": "code",
   "execution_count": 8,
   "id": "20790949",
   "metadata": {},
   "outputs": [
    {
     "name": "stdout",
     "output_type": "stream",
     "text": [
      "Bu bir Armstrong sayısıdır.\n"
     ]
    }
   ],
   "source": [
    "number=int(input(\"Bir Armstrong sayısı giriniz.\"))\n",
    "stepValues=list(map(int,str(number)))\n",
    "\n",
    "total=0\n",
    "for i in stepValues:\n",
    "    total+=pow(i,3)\n",
    "if total==number:\n",
    "    print(\"Bu bir Armstrong sayısıdır.\")\n",
    "else:\n",
    "    print(\"Bu bir Armstrong sayısı değildir.\")"
   ]
  },
  {
   "cell_type": "markdown",
   "id": "7753b120",
   "metadata": {},
   "source": [
    "### Soru 3 – Kümeler \n",
    "Aşağıdaki iki küme verilmiştir: \n",
    "A = {\"Python\", \"R\", \"SQL\", \"Java\"} \n",
    "B = {\"C++\", \"Python\", \"JavaScript\", \"SQL\"} \n",
    "- Ortak dilleri bulun. \n",
    "- Sadece A’da olan dilleri listeleyin. \n",
    "- İki kümenin birleşimini alfabetik olarak yazdırın."
   ]
  },
  {
   "cell_type": "code",
   "execution_count": 9,
   "id": "24482c8f",
   "metadata": {},
   "outputs": [
    {
     "name": "stdout",
     "output_type": "stream",
     "text": [
      "Aynı diller : ['Python', 'SQL']\n",
      "Sadece A listesinde olanlar : ['R', 'Java']\n",
      "İki kümenin alfabetik toplamı : ['C++', 'Java', 'Javascript', 'Python', 'R', 'SQL']\n"
     ]
    }
   ],
   "source": [
    "A=[\"Python\",\"R\",\"SQL\",\"Java\"]\n",
    "B=[\"C++\",\"Python\",\"Javascript\",\"SQL\"]\n",
    "sameLanguages=[]\n",
    "for language in A:\n",
    "    if language in B:\n",
    "        sameLanguages.append(language)\n",
    "justInA=list(set(A)-set(sameLanguages))\n",
    "totalGroup=[]\n",
    "for language in A:\n",
    "    if not language in B:\n",
    "        totalGroup.append(language)\n",
    "totalGroup+=B\n",
    "totalGroup.sort()\n",
    "print(f\"Aynı diller : {sameLanguages}\")\n",
    "print(f\"Sadece A listesinde olanlar : {justInA}\")\n",
    "print(f\"İki kümenin alfabetik toplamı : {totalGroup}\")\n"
   ]
  },
  {
   "cell_type": "markdown",
   "id": "66903532",
   "metadata": {},
   "source": [
    "### Soru 4 – Modüller \n",
    "- random modülünü kullanarak 1–100 arasında 10 rastgele sayı üretin. \n",
    "- Bu sayıların ortalamasını ve standart sapmasını statistics modülü ile hesaplayın."
   ]
  },
  {
   "cell_type": "code",
   "execution_count": 10,
   "id": "ed634d5d",
   "metadata": {},
   "outputs": [
    {
     "name": "stdout",
     "output_type": "stream",
     "text": [
      "Ortalama : 43.8\n",
      "Standart Sapma : 33.963378970754825\n"
     ]
    }
   ],
   "source": [
    "import random,statistics\n",
    "numberList=[]\n",
    "for i in range(1,11):\n",
    "    numberList.append(random.randint(1,100))\n",
    "mean=statistics.mean(numberList)\n",
    "standartDeviation=statistics.stdev(numberList)\n",
    "print(f\"Ortalama : {mean}\")\n",
    "print(f\"Standart Sapma : {standartDeviation}\")"
   ]
  },
  {
   "cell_type": "markdown",
   "id": "27f07323",
   "metadata": {},
   "source": [
    "### Soru 5 – Fonksiyonlar \n",
    "kelime_sayacı(metin) adında bir fonksiyon yazın. \n",
    "Fonksiyon verilen metindeki: \n",
    "- toplam kelime sayısını \n",
    "- en uzun kelimeyi \n",
    "- en sık geçen kelimeyi döndürsün."
   ]
  },
  {
   "cell_type": "code",
   "execution_count": 14,
   "id": "f1126e7e",
   "metadata": {},
   "outputs": [
    {
     "name": "stdout",
     "output_type": "stream",
     "text": [
      "En çok geçen kelime : Python\n",
      "En uzun kelime : hoşgeldiniz\n",
      "Toplam kelime sayısı : 5\n"
     ]
    }
   ],
   "source": [
    "from collections import Counter\n",
    "def kelime_sayaci(metin:str):\n",
    "    kelimeler=metin.split()\n",
    "    kelimelerinSayisi=Counter(kelimeler)\n",
    "    enUzunKelime=kelimeler[0]\n",
    "    toplamKelimeSayisi=0\n",
    "    for i in kelimeler:\n",
    "        toplamKelimeSayisi+=1\n",
    "        if len(i)>len(enUzunKelime):\n",
    "            enUzunKelime=i\n",
    "    enCokGecenKelime,adet=kelimelerinSayisi.most_common(1)[0]\n",
    "    return toplamKelimeSayisi,enUzunKelime,enCokGecenKelime\n",
    "metin=\"Python veri bilimi derslerine hoşgeldiniz\"\n",
    "print(f\"En çok geçen kelime : {kelime_sayaci(metin)[2]}\\nEn uzun kelime : {kelime_sayaci(metin)[1]}\\nToplam kelime sayısı : {kelime_sayaci(metin)[0]}\")\n"
   ]
  },
  {
   "cell_type": "markdown",
   "id": "c98150fa",
   "metadata": {},
   "source": [
    "### Soru 6 – Gömülü Fonksiyonlar \n",
    "Aşağıdaki liste için map, filter, sorted gibi gömülü fonksiyonları kullanarak: \n",
    "sayilar = [5, 12, 7, 18, 24, 3, 16] \n",
    "- Sadece çift sayıları filtreleyin. \n",
    "- Bu sayıların karelerini bulun. \n",
    "- Karelerini azalan sırada sıralayın."
   ]
  },
  {
   "cell_type": "code",
   "execution_count": 16,
   "id": "7c005dd8",
   "metadata": {},
   "outputs": [
    {
     "name": "stdout",
     "output_type": "stream",
     "text": [
      "Kareler : [25, 144, 49, 324, 576, 9, 256]\n",
      "Çift sayılar : [12, 18, 24, 16]\n",
      "Kareleri azalan sırada sıralanmış : [24, 18, 16, 12, 7, 5, 3]\n"
     ]
    }
   ],
   "source": [
    "sayilar=[5,12,7,18,24,3,16]\n",
    "kareler=list(map(lambda x:x**2,sayilar)) \n",
    "ciftSayilar=list(filter(lambda x:x%2==0,sayilar)) \n",
    "karelerAzalanSira=sorted(sayilar,reverse=True)\n",
    "print(f\"Kareler : {kareler}\\nÇift sayılar : {ciftSayilar}\\nKareleri azalan sırada sıralanmış : {karelerAzalanSira}\")"
   ]
  },
  {
   "cell_type": "markdown",
   "id": "5b4acc54",
   "metadata": {},
   "source": [
    "### Soru 7 – Lambda İfadeleri \n",
    "Aşağıdaki listeyi, her kelimenin uzunluğuna göre küçükten büyüğe sıralayın. \n",
    "kelimeler = [\"veri\", \"bilim\", \"analiz\", \"yapayzeka\", \"python\"] \n",
    "Bunu sorted + lambda ile yapın."
   ]
  },
  {
   "cell_type": "code",
   "execution_count": 2,
   "id": "500ea997",
   "metadata": {},
   "outputs": [
    {
     "name": "stdout",
     "output_type": "stream",
     "text": [
      "['veri', 'bilim', 'analiz', 'python', 'yapayzeka']\n"
     ]
    }
   ],
   "source": [
    "kelimeler=[\"veri\",\"bilim\",\"analiz\",\"yapayzeka\",\"python\"]\n",
    "kelimeler=sorted(kelimeler,key=lambda x:len(x))\n",
    "print(kelimeler)"
   ]
  },
  {
   "cell_type": "markdown",
   "id": "8430779f",
   "metadata": {},
   "source": [
    "### Soru 8 – Metodlar \n",
    "Bir string içinde geçen tüm rakamları bulun ve bunların toplamını döndüren bir fonksiyon \n",
    "yazın. \n",
    "Örn: \"abc12def3\" → 12 + 3 = 15"
   ]
  },
  {
   "cell_type": "code",
   "execution_count": 4,
   "id": "314f919d",
   "metadata": {},
   "outputs": [
    {
     "name": "stdout",
     "output_type": "stream",
     "text": [
      "27\n"
     ]
    }
   ],
   "source": [
    "def returnNumber(x:str):\n",
    "    total=0\n",
    "    for letter in x:\n",
    "        if letter.isdigit():\n",
    "            total+=int(letter)\n",
    "    return total\n",
    "print(returnNumber(\"ndfsvofd3234lkdsf546\"))"
   ]
  },
  {
   "cell_type": "markdown",
   "id": "6dfbf008",
   "metadata": {},
   "source": [
    "### Soru 9 – (Ekstra) Numpy 1  \n",
    "10 elemanlı bir numpy dizisi oluşturun. \n",
    "- Elemanlar 0–50 arasında rastgele sayılar olsun. \n",
    "- Dizinin ortalamasını, standart sapmasını ve en büyük değerini bulun."
   ]
  },
  {
   "cell_type": "code",
   "execution_count": 8,
   "id": "a4850af8",
   "metadata": {},
   "outputs": [
    {
     "name": "stdout",
     "output_type": "stream",
     "text": [
      "Sayılar : [37 17 17 36 29  9 15  9 45 44]\n",
      "Ortalaması : 25.8\n",
      "Standart Sapma : 13.325164164091937\n",
      "Maksimum değer : 45\n"
     ]
    }
   ],
   "source": [
    "import numpy as np\n",
    "myNumpy=np.random.randint(0,51,size=10)\n",
    "print(f\"Sayılar : {myNumpy}\")\n",
    "print(f\"Ortalaması : {np.mean(myNumpy)}\")\n",
    "print(f\"Standart Sapma : {np.std(myNumpy)}\")\n",
    "print(f\"Maksimum değer : {np.max(myNumpy)}\")"
   ]
  },
  {
   "cell_type": "markdown",
   "id": "092de535",
   "metadata": {},
   "source": [
    "### Soru 10 – (Ekstra) Numpy 2 \n",
    "5x5 boyutunda rastgele 0–1 arasında değerlerden oluşan bir numpy matrisi üretin. \n",
    "- Her sütunun ortalamasını bulun. \n",
    "- 0.5’ten büyük olan değerleri 1, küçük eşit olanları 0 yaparak binary matris oluşturun."
   ]
  },
  {
   "cell_type": "code",
   "execution_count": 10,
   "id": "19efb078",
   "metadata": {},
   "outputs": [
    {
     "name": "stdout",
     "output_type": "stream",
     "text": [
      "Matris : [[0.45222949 0.93522016 0.0688424  0.61090953 0.66969525]\n",
      " [0.82079812 0.01946198 0.6811112  0.15802971 0.05596445]\n",
      " [0.07047426 0.68201934 0.83299857 0.0145021  0.79895327]\n",
      " [0.51765324 0.2694863  0.13985865 0.9245502  0.17714043]\n",
      " [0.39014054 0.76859954 0.7798912  0.29861587 0.57130352]]\n",
      "Ortalamalar : [0.45025913 0.53495746 0.5005404  0.40132148 0.45461138]\n",
      "Binary matris : [[0 1 0 1 1]\n",
      " [1 0 1 0 0]\n",
      " [0 1 1 0 1]\n",
      " [1 0 0 1 0]\n",
      " [0 1 1 0 1]]\n"
     ]
    }
   ],
   "source": [
    "import numpy as np \n",
    "matris=np.random.rand(5,5)\n",
    "print(f\"Matris : {matris}\")\n",
    "print(f\"Ortalamalar : {np.mean(matris,axis=0)}\")\n",
    "binaryMatris=(matris>0.5).astype(int)\n",
    "print(f\"Binary matris : {binaryMatris}\")"
   ]
  }
 ],
 "metadata": {
  "kernelspec": {
   "display_name": "global (3.13.5)",
   "language": "python",
   "name": "python3"
  },
  "language_info": {
   "codemirror_mode": {
    "name": "ipython",
    "version": 3
   },
   "file_extension": ".py",
   "mimetype": "text/x-python",
   "name": "python",
   "nbconvert_exporter": "python",
   "pygments_lexer": "ipython3",
   "version": "3.13.5"
  }
 },
 "nbformat": 4,
 "nbformat_minor": 5
}
